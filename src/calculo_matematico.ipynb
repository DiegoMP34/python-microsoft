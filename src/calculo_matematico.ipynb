{
 "cells": [
  {
   "attachments": {},
   "cell_type": "markdown",
   "metadata": {},
   "source": [
    "## Velocidad de la nave\n",
    "\n",
    "Muestra los segundos que se necesitan para llegar de 0 a 60 m/s, dado la aceleracion de la nave en m/s"
   ]
  },
  {
   "cell_type": "code",
   "execution_count": 3,
   "metadata": {},
   "outputs": [
    {
     "name": "stdout",
     "output_type": "stream",
     "text": [
      "El tiempo para llegar a la velocidad deseada es =  8.16326530612245\n"
     ]
    }
   ],
   "source": [
    "velocidadFinal = 90\n",
    "velocidadInicial = 10\n",
    "aceleracion = 9.8\n",
    "\n",
    "tiempo = (velocidadFinal -velocidadInicial) / aceleracion\n",
    "print(\"El tiempo para llegar a la velocidad deseada es = \", tiempo)"
   ]
  }
 ],
 "metadata": {
  "kernelspec": {
   "display_name": "Python 3",
   "language": "python",
   "name": "python3"
  },
  "language_info": {
   "codemirror_mode": {
    "name": "ipython",
    "version": 3
   },
   "file_extension": ".py",
   "mimetype": "text/x-python",
   "name": "python",
   "nbconvert_exporter": "python",
   "pygments_lexer": "ipython3",
   "version": "3.10.6"
  },
  "orig_nbformat": 4
 },
 "nbformat": 4,
 "nbformat_minor": 2
}
